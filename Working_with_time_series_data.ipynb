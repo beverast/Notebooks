{
  "nbformat": 4,
  "nbformat_minor": 0,
  "metadata": {
    "colab": {
      "name": "Working_with_time_series_data.ipynb",
      "version": "0.3.2",
      "provenance": [],
      "include_colab_link": true
    },
    "kernelspec": {
      "display_name": "Python 3",
      "language": "python",
      "name": "python3"
    }
  },
  "cells": [
    {
      "cell_type": "markdown",
      "metadata": {
        "id": "view-in-github",
        "colab_type": "text"
      },
      "source": [
        "<a href=\"https://colab.research.google.com/github/beverast/Notebooks/blob/master/Working_with_time_series_data.ipynb\" target=\"_parent\"><img src=\"https://colab.research.google.com/assets/colab-badge.svg\" alt=\"Open In Colab\"/></a>"
      ]
    },
    {
      "metadata": {
        "id": "bn1tem33aZda",
        "colab_type": "text"
      },
      "cell_type": "markdown",
      "source": [
        "# Working with Time Series\n",
        "A notebook from working through the Python Data Science Handbook:\n",
        "\n",
        "https://jakevdp.github.io/PythonDataScienceHandbook/03.11-working-with-time-series.html"
      ]
    },
    {
      "metadata": {
        "id": "5IbN_CfiaZdb",
        "colab_type": "text"
      },
      "cell_type": "markdown",
      "source": [
        "* Time stamps: particular moments in time\n",
        "* Time intervals: lengths of time between particular beginning and end points\n",
        "* Periods: time intervals of uniform length and non-overlapping\n",
        "* Time deltas: exact lengths of time"
      ]
    },
    {
      "metadata": {
        "id": "35zu5DZ_aZdd",
        "colab_type": "text"
      },
      "cell_type": "markdown",
      "source": [
        "### Native Python Dates and Times"
      ]
    },
    {
      "metadata": {
        "id": "2Mq5a6jeaZde",
        "colab_type": "code",
        "colab": {},
        "outputId": "6a2560d8-cde1-4430-c5b9-9ab100de6c78"
      },
      "cell_type": "code",
      "source": [
        "from datetime import datetime\n",
        "\n",
        "\n",
        "datetime(year=2015, month=7, day=4)"
      ],
      "execution_count": 0,
      "outputs": [
        {
          "output_type": "execute_result",
          "data": {
            "text/plain": [
              "datetime.datetime(2015, 7, 4, 0, 0)"
            ]
          },
          "metadata": {
            "tags": []
          },
          "execution_count": 1
        }
      ]
    },
    {
      "metadata": {
        "id": "iWHkY6_haZdl",
        "colab_type": "code",
        "colab": {},
        "outputId": "e7b38b47-d425-4574-f42f-553364897a4a"
      },
      "cell_type": "code",
      "source": [
        "from dateutil import parser\n",
        "\n",
        "\n",
        "date = parser.parse('4th of July, 2015')\n",
        "date"
      ],
      "execution_count": 0,
      "outputs": [
        {
          "output_type": "execute_result",
          "data": {
            "text/plain": [
              "datetime.datetime(2015, 7, 4, 0, 0)"
            ]
          },
          "metadata": {
            "tags": []
          },
          "execution_count": 2
        }
      ]
    },
    {
      "metadata": {
        "id": "jTO1hALLaZdp",
        "colab_type": "code",
        "colab": {},
        "outputId": "6bf87a4b-5257-44de-9421-337c66fda731"
      },
      "cell_type": "code",
      "source": [
        "# strftime string formatter %A meaning: Weekday as locale's full name\n",
        "date.strftime('%A')"
      ],
      "execution_count": 0,
      "outputs": [
        {
          "output_type": "execute_result",
          "data": {
            "text/plain": [
              "'Saturday'"
            ]
          },
          "metadata": {
            "tags": []
          },
          "execution_count": 3
        }
      ]
    },
    {
      "metadata": {
        "id": "GJSnQfmgaZdr",
        "colab_type": "text"
      },
      "cell_type": "markdown",
      "source": [
        "### Typed arrays of times: Numpy's datetime64"
      ]
    },
    {
      "metadata": {
        "id": "p5qSsdpFaZds",
        "colab_type": "code",
        "colab": {},
        "outputId": "7c77a02a-3abc-4aab-af6a-4c7cb70a6cd4"
      },
      "cell_type": "code",
      "source": [
        "import numpy as np\n",
        "\n",
        "\n",
        "# Numpy encodes dates as 64-bit integersto allow\n",
        "# arrays of dates to be compactly represented\n",
        "date = np.array('2015-07-04', dtype=np.datetime64)\n",
        "date"
      ],
      "execution_count": 0,
      "outputs": [
        {
          "output_type": "execute_result",
          "data": {
            "text/plain": [
              "array('2015-07-04', dtype='datetime64[D]')"
            ]
          },
          "metadata": {
            "tags": []
          },
          "execution_count": 4
        }
      ]
    },
    {
      "metadata": {
        "id": "O6MMLnCHaZdw",
        "colab_type": "code",
        "colab": {},
        "outputId": "167a4f5e-f1b8-4a20-a77d-2410d076aaca"
      },
      "cell_type": "code",
      "source": [
        "# Perform vectorized operations\n",
        "date + np.arange(12)"
      ],
      "execution_count": 0,
      "outputs": [
        {
          "output_type": "execute_result",
          "data": {
            "text/plain": [
              "array(['2015-07-04', '2015-07-05', '2015-07-06', '2015-07-07',\n",
              "       '2015-07-08', '2015-07-09', '2015-07-10', '2015-07-11',\n",
              "       '2015-07-12', '2015-07-13', '2015-07-14', '2015-07-15'],\n",
              "      dtype='datetime64[D]')"
            ]
          },
          "metadata": {
            "tags": []
          },
          "execution_count": 5
        }
      ]
    },
    {
      "metadata": {
        "id": "ly_B_7f0aZdz",
        "colab_type": "code",
        "colab": {},
        "outputId": "e24a37dc-88e7-49bf-ddba-bc4b31b7d969"
      },
      "cell_type": "code",
      "source": [
        "np.datetime64('2015-07-04 12:59:59.50', 'ns')"
      ],
      "execution_count": 0,
      "outputs": [
        {
          "output_type": "execute_result",
          "data": {
            "text/plain": [
              "numpy.datetime64('2015-07-04T12:59:59.500000000')"
            ]
          },
          "metadata": {
            "tags": []
          },
          "execution_count": 6
        }
      ]
    },
    {
      "metadata": {
        "id": "iFpWxLF1aZd2",
        "colab_type": "code",
        "colab": {}
      },
      "cell_type": "code",
      "source": [
        "# datetime64 also has format codes: http://docs.scipy.org/doc/numpy/reference/arrays.datetime.html"
      ],
      "execution_count": 0,
      "outputs": []
    },
    {
      "metadata": {
        "id": "W-1BM4wVaZd7",
        "colab_type": "text"
      },
      "cell_type": "markdown",
      "source": [
        "### Dates and times in pandas"
      ]
    },
    {
      "metadata": {
        "id": "tQWSLrDcaZd7",
        "colab_type": "code",
        "colab": {},
        "outputId": "982d4a2b-a141-4e99-adca-69069e4734a3"
      },
      "cell_type": "code",
      "source": [
        "import pandas as pd\n",
        "\n",
        "\n",
        "date = pd.to_datetime('4th of July, 2015')\n",
        "date"
      ],
      "execution_count": 0,
      "outputs": [
        {
          "output_type": "execute_result",
          "data": {
            "text/plain": [
              "Timestamp('2015-07-04 00:00:00')"
            ]
          },
          "metadata": {
            "tags": []
          },
          "execution_count": 8
        }
      ]
    },
    {
      "metadata": {
        "id": "ymyNBcD8aZd_",
        "colab_type": "code",
        "colab": {},
        "outputId": "596c76ca-9472-445c-dd1b-7f188ce31c6a"
      },
      "cell_type": "code",
      "source": [
        "date.strftime('%A')"
      ],
      "execution_count": 0,
      "outputs": [
        {
          "output_type": "execute_result",
          "data": {
            "text/plain": [
              "'Saturday'"
            ]
          },
          "metadata": {
            "tags": []
          },
          "execution_count": 9
        }
      ]
    },
    {
      "metadata": {
        "id": "94DgH7EUaZeC",
        "colab_type": "code",
        "colab": {},
        "outputId": "2ddce63d-42b4-46db-de4f-31c5c70bf059"
      },
      "cell_type": "code",
      "source": [
        "date + pd.to_timedelta(np.arange(12), 'D')"
      ],
      "execution_count": 0,
      "outputs": [
        {
          "output_type": "execute_result",
          "data": {
            "text/plain": [
              "DatetimeIndex(['2015-07-04', '2015-07-05', '2015-07-06', '2015-07-07',\n",
              "               '2015-07-08', '2015-07-09', '2015-07-10', '2015-07-11',\n",
              "               '2015-07-12', '2015-07-13', '2015-07-14', '2015-07-15'],\n",
              "              dtype='datetime64[ns]', freq=None)"
            ]
          },
          "metadata": {
            "tags": []
          },
          "execution_count": 10
        }
      ]
    },
    {
      "metadata": {
        "id": "iJfeOkT7aZeG",
        "colab_type": "text"
      },
      "cell_type": "markdown",
      "source": [
        "### Pandas Time Series: Indexing by Time"
      ]
    },
    {
      "metadata": {
        "id": "uuoAnfb3aZeI",
        "colab_type": "code",
        "colab": {},
        "outputId": "2998c7f7-bd86-4913-ffec-bfe8260628b8"
      },
      "cell_type": "code",
      "source": [
        "# Series objects have time indexed data\n",
        "index = pd.DatetimeIndex(['2014-07-04', '2014-08-04',\n",
        "                         '2015-07-04', '2015-08-04'])\n",
        "data = pd.Series([0,1,2,3], index=index)\n",
        "data"
      ],
      "execution_count": 0,
      "outputs": [
        {
          "output_type": "execute_result",
          "data": {
            "text/plain": [
              "2014-07-04    0\n",
              "2014-08-04    1\n",
              "2015-07-04    2\n",
              "2015-08-04    3\n",
              "dtype: int64"
            ]
          },
          "metadata": {
            "tags": []
          },
          "execution_count": 11
        }
      ]
    },
    {
      "metadata": {
        "id": "KmLLtuTDaZeL",
        "colab_type": "code",
        "colab": {},
        "outputId": "1ee00289-f665-432f-e171-3a9c64985d03"
      },
      "cell_type": "code",
      "source": [
        "# A Series indexing pattern\n",
        "data['2014-07-04':'2015-07-04']"
      ],
      "execution_count": 0,
      "outputs": [
        {
          "output_type": "execute_result",
          "data": {
            "text/plain": [
              "2014-07-04    0\n",
              "2014-08-04    1\n",
              "2015-07-04    2\n",
              "dtype: int64"
            ]
          },
          "metadata": {
            "tags": []
          },
          "execution_count": 12
        }
      ]
    },
    {
      "metadata": {
        "id": "PL_ztThRaZeQ",
        "colab_type": "code",
        "colab": {},
        "outputId": "44b9e284-73ad-4c75-af86-1158adc12a72"
      },
      "cell_type": "code",
      "source": [
        "# Get all data from a given date (data-as-index)\n",
        "data['2015']"
      ],
      "execution_count": 0,
      "outputs": [
        {
          "output_type": "execute_result",
          "data": {
            "text/plain": [
              "2015-07-04    2\n",
              "2015-08-04    3\n",
              "dtype: int64"
            ]
          },
          "metadata": {
            "tags": []
          },
          "execution_count": 13
        }
      ]
    },
    {
      "metadata": {
        "id": "lpNrV6lCaZeT",
        "colab_type": "text"
      },
      "cell_type": "markdown",
      "source": [
        "### Pandas Time Series Data Structures"
      ]
    },
    {
      "metadata": {
        "id": "3ZaJWsWGaZeV",
        "colab_type": "text"
      },
      "cell_type": "markdown",
      "source": [
        "* pandas.Timestamp: a replacement for datetime but efficient like numpy.datetime64\n",
        "* pandas.Period: encodes a fixed-frequency interval, and the assoc. index structure is pandas.PeriodIndex\n",
        "* pandas.Timedelta: a more efficient datetime.timedelta, and the assoc. index structure is TimedeltaIndex"
      ]
    },
    {
      "metadata": {
        "id": "nKkP2w2naZeW",
        "colab_type": "code",
        "colab": {},
        "outputId": "9befa19c-674f-44c7-8b92-e0ca3f8e9aff"
      },
      "cell_type": "code",
      "source": [
        "dates = pd.to_datetime([datetime(2015, 7, 3), '4th of July, 2015', '2015-Jul-6',\n",
        "                       '07-07-2015', '20150708'])\n",
        "dates"
      ],
      "execution_count": 0,
      "outputs": [
        {
          "output_type": "execute_result",
          "data": {
            "text/plain": [
              "DatetimeIndex(['2015-07-03', '2015-07-04', '2015-07-06', '2015-07-07',\n",
              "               '2015-07-08'],\n",
              "              dtype='datetime64[ns]', freq=None)"
            ]
          },
          "metadata": {
            "tags": []
          },
          "execution_count": 14
        }
      ]
    },
    {
      "metadata": {
        "id": "BLHIqcgUaZeb",
        "colab_type": "code",
        "colab": {},
        "outputId": "ff81d3db-3024-46ed-9a74-142547102fbf"
      },
      "cell_type": "code",
      "source": [
        "# DatetimeIndex can be converted to PeriodIndex\n",
        "dates.to_period('D')"
      ],
      "execution_count": 0,
      "outputs": [
        {
          "output_type": "execute_result",
          "data": {
            "text/plain": [
              "PeriodIndex(['2015-07-03', '2015-07-04', '2015-07-06', '2015-07-07',\n",
              "             '2015-07-08'],\n",
              "            dtype='period[D]', freq='D')"
            ]
          },
          "metadata": {
            "tags": []
          },
          "execution_count": 15
        }
      ]
    },
    {
      "metadata": {
        "id": "rq-BGBG-aZef",
        "colab_type": "code",
        "colab": {},
        "outputId": "5c7c9884-fb87-42f2-8ad1-768b5b17df9c"
      },
      "cell_type": "code",
      "source": [
        "# TimedeltaIndex can be created when a date is subtracted from another\n",
        "dates - dates[0]"
      ],
      "execution_count": 0,
      "outputs": [
        {
          "output_type": "execute_result",
          "data": {
            "text/plain": [
              "TimedeltaIndex(['0 days', '1 days', '3 days', '4 days', '5 days'], dtype='timedelta64[ns]', freq=None)"
            ]
          },
          "metadata": {
            "tags": []
          },
          "execution_count": 16
        }
      ]
    },
    {
      "metadata": {
        "id": "PIsiYlASaZek",
        "colab_type": "text"
      },
      "cell_type": "markdown",
      "source": [
        "### Regular sequences: pd.date_range()"
      ]
    },
    {
      "metadata": {
        "id": "Y2M-bxcNaZel",
        "colab_type": "code",
        "colab": {},
        "outputId": "40dcae29-a1c8-4b52-d094-83e5b6b1ecae"
      },
      "cell_type": "code",
      "source": [
        "# A sequence of days from 07-03 to 07-10\n",
        "pd.date_range('2015-07-03', '2015-07-10')"
      ],
      "execution_count": 0,
      "outputs": [
        {
          "output_type": "execute_result",
          "data": {
            "text/plain": [
              "DatetimeIndex(['2015-07-03', '2015-07-04', '2015-07-05', '2015-07-06',\n",
              "               '2015-07-07', '2015-07-08', '2015-07-09', '2015-07-10'],\n",
              "              dtype='datetime64[ns]', freq='D')"
            ]
          },
          "metadata": {
            "tags": []
          },
          "execution_count": 17
        }
      ]
    },
    {
      "metadata": {
        "id": "EeJUhevsaZep",
        "colab_type": "code",
        "colab": {},
        "outputId": "cdab2551-5eb2-40cb-e37c-ccd61b0b4fcf"
      },
      "cell_type": "code",
      "source": [
        "# A sequence of 8 hours on 2015-07-03\n",
        "pd.date_range('2015-07-03', periods=8, freq='H')"
      ],
      "execution_count": 0,
      "outputs": [
        {
          "output_type": "execute_result",
          "data": {
            "text/plain": [
              "DatetimeIndex(['2015-07-03 00:00:00', '2015-07-03 01:00:00',\n",
              "               '2015-07-03 02:00:00', '2015-07-03 03:00:00',\n",
              "               '2015-07-03 04:00:00', '2015-07-03 05:00:00',\n",
              "               '2015-07-03 06:00:00', '2015-07-03 07:00:00'],\n",
              "              dtype='datetime64[ns]', freq='H')"
            ]
          },
          "metadata": {
            "tags": []
          },
          "execution_count": 18
        }
      ]
    },
    {
      "metadata": {
        "id": "q02pj-sraZet",
        "colab_type": "code",
        "colab": {},
        "outputId": "5f7a1176-4907-4fdd-aa8e-de385148d77f"
      },
      "cell_type": "code",
      "source": [
        "# A sequence of 8 months starting from 2015-07\n",
        "pd.period_range('2015-07', periods=8, freq='M')"
      ],
      "execution_count": 0,
      "outputs": [
        {
          "output_type": "execute_result",
          "data": {
            "text/plain": [
              "PeriodIndex(['2015-07', '2015-08', '2015-09', '2015-10', '2015-11', '2015-12',\n",
              "             '2016-01', '2016-02'],\n",
              "            dtype='period[M]', freq='M')"
            ]
          },
          "metadata": {
            "tags": []
          },
          "execution_count": 19
        }
      ]
    },
    {
      "metadata": {
        "id": "irfHbqLmaZe0",
        "colab_type": "code",
        "colab": {},
        "outputId": "0559a55d-4e69-4fc9-a1cb-70a28b3e5d1a"
      },
      "cell_type": "code",
      "source": [
        "# A sequence of 10 hours starting from 00:00:00\n",
        "pd.timedelta_range(0, periods=10, freq='H')"
      ],
      "execution_count": 0,
      "outputs": [
        {
          "output_type": "execute_result",
          "data": {
            "text/plain": [
              "TimedeltaIndex(['00:00:00', '01:00:00', '02:00:00', '03:00:00', '04:00:00',\n",
              "                '05:00:00', '06:00:00', '07:00:00', '08:00:00', '09:00:00'],\n",
              "               dtype='timedelta64[ns]', freq='H')"
            ]
          },
          "metadata": {
            "tags": []
          },
          "execution_count": 20
        }
      ]
    },
    {
      "metadata": {
        "id": "q5FrrdcIaZe8",
        "colab_type": "text"
      },
      "cell_type": "markdown",
      "source": [
        "### Frequencies and Offsets"
      ]
    },
    {
      "metadata": {
        "id": "tCzaTH1paZe9",
        "colab_type": "code",
        "colab": {},
        "outputId": "b39b8801-bfe7-447e-f84d-a658965218dc"
      },
      "cell_type": "code",
      "source": [
        "pd.timedelta_range(0, periods=9, freq='2H30T')"
      ],
      "execution_count": 0,
      "outputs": [
        {
          "output_type": "execute_result",
          "data": {
            "text/plain": [
              "TimedeltaIndex(['00:00:00', '02:30:00', '05:00:00', '07:30:00', '10:00:00',\n",
              "                '12:30:00', '15:00:00', '17:30:00', '20:00:00'],\n",
              "               dtype='timedelta64[ns]', freq='150T')"
            ]
          },
          "metadata": {
            "tags": []
          },
          "execution_count": 21
        }
      ]
    },
    {
      "metadata": {
        "id": "0zhVFeoAaZfF",
        "colab_type": "code",
        "colab": {},
        "outputId": "c16dd553-3a11-4bad-9386-dcc4562e0ede"
      },
      "cell_type": "code",
      "source": [
        "# Create a business day offset\n",
        "from pandas.tseries.offsets import BDay\n",
        "\n",
        "\n",
        "pd.date_range('2015-07-01', periods=5, freq=BDay())"
      ],
      "execution_count": 0,
      "outputs": [
        {
          "output_type": "execute_result",
          "data": {
            "text/plain": [
              "DatetimeIndex(['2015-07-01', '2015-07-02', '2015-07-03', '2015-07-06',\n",
              "               '2015-07-07'],\n",
              "              dtype='datetime64[ns]', freq='B')"
            ]
          },
          "metadata": {
            "tags": []
          },
          "execution_count": 22
        }
      ]
    },
    {
      "metadata": {
        "id": "hqXiDb0naZfL",
        "colab_type": "text"
      },
      "cell_type": "markdown",
      "source": [
        "### Resampling, Shifting, and Windowing"
      ]
    },
    {
      "metadata": {
        "id": "ryECsojjaZfM",
        "colab_type": "code",
        "colab": {},
        "outputId": "a18f05fd-e802-4633-c888-05e8bbe7e2f4"
      },
      "cell_type": "code",
      "source": [
        "from pandas_datareader import data\n",
        "\n",
        "\n",
        "# Google Finance API has been deprecated\n",
        "goog = data.DataReader('GOOG', 'yahoo')\n",
        "goog.head()"
      ],
      "execution_count": 0,
      "outputs": [
        {
          "output_type": "execute_result",
          "data": {
            "text/html": [
              "<div>\n",
              "<style scoped>\n",
              "    .dataframe tbody tr th:only-of-type {\n",
              "        vertical-align: middle;\n",
              "    }\n",
              "\n",
              "    .dataframe tbody tr th {\n",
              "        vertical-align: top;\n",
              "    }\n",
              "\n",
              "    .dataframe thead th {\n",
              "        text-align: right;\n",
              "    }\n",
              "</style>\n",
              "<table border=\"1\" class=\"dataframe\">\n",
              "  <thead>\n",
              "    <tr style=\"text-align: right;\">\n",
              "      <th></th>\n",
              "      <th>High</th>\n",
              "      <th>Low</th>\n",
              "      <th>Open</th>\n",
              "      <th>Close</th>\n",
              "      <th>Volume</th>\n",
              "      <th>Adj Close</th>\n",
              "    </tr>\n",
              "    <tr>\n",
              "      <th>Date</th>\n",
              "      <th></th>\n",
              "      <th></th>\n",
              "      <th></th>\n",
              "      <th></th>\n",
              "      <th></th>\n",
              "      <th></th>\n",
              "    </tr>\n",
              "  </thead>\n",
              "  <tbody>\n",
              "    <tr>\n",
              "      <th>2010-01-04</th>\n",
              "      <td>312.721039</td>\n",
              "      <td>310.103088</td>\n",
              "      <td>311.449310</td>\n",
              "      <td>311.349976</td>\n",
              "      <td>3937800.0</td>\n",
              "      <td>311.349976</td>\n",
              "    </tr>\n",
              "    <tr>\n",
              "      <th>2010-01-05</th>\n",
              "      <td>311.891449</td>\n",
              "      <td>308.761810</td>\n",
              "      <td>311.563568</td>\n",
              "      <td>309.978882</td>\n",
              "      <td>6048500.0</td>\n",
              "      <td>309.978882</td>\n",
              "    </tr>\n",
              "    <tr>\n",
              "      <th>2010-01-06</th>\n",
              "      <td>310.907837</td>\n",
              "      <td>301.220856</td>\n",
              "      <td>310.907837</td>\n",
              "      <td>302.164703</td>\n",
              "      <td>8009000.0</td>\n",
              "      <td>302.164703</td>\n",
              "    </tr>\n",
              "    <tr>\n",
              "      <th>2010-01-07</th>\n",
              "      <td>303.029083</td>\n",
              "      <td>294.410156</td>\n",
              "      <td>302.731018</td>\n",
              "      <td>295.130463</td>\n",
              "      <td>12912000.0</td>\n",
              "      <td>295.130463</td>\n",
              "    </tr>\n",
              "    <tr>\n",
              "      <th>2010-01-08</th>\n",
              "      <td>299.675903</td>\n",
              "      <td>292.651581</td>\n",
              "      <td>294.087250</td>\n",
              "      <td>299.064880</td>\n",
              "      <td>9509900.0</td>\n",
              "      <td>299.064880</td>\n",
              "    </tr>\n",
              "  </tbody>\n",
              "</table>\n",
              "</div>"
            ],
            "text/plain": [
              "                  High         Low        Open       Close      Volume  \\\n",
              "Date                                                                     \n",
              "2010-01-04  312.721039  310.103088  311.449310  311.349976   3937800.0   \n",
              "2010-01-05  311.891449  308.761810  311.563568  309.978882   6048500.0   \n",
              "2010-01-06  310.907837  301.220856  310.907837  302.164703   8009000.0   \n",
              "2010-01-07  303.029083  294.410156  302.731018  295.130463  12912000.0   \n",
              "2010-01-08  299.675903  292.651581  294.087250  299.064880   9509900.0   \n",
              "\n",
              "             Adj Close  \n",
              "Date                    \n",
              "2010-01-04  311.349976  \n",
              "2010-01-05  309.978882  \n",
              "2010-01-06  302.164703  \n",
              "2010-01-07  295.130463  \n",
              "2010-01-08  299.064880  "
            ]
          },
          "metadata": {
            "tags": []
          },
          "execution_count": 31
        }
      ]
    },
    {
      "metadata": {
        "id": "0cUldPn_aZfU",
        "colab_type": "code",
        "colab": {}
      },
      "cell_type": "code",
      "source": [
        "goog = goog['Close']"
      ],
      "execution_count": 0,
      "outputs": []
    },
    {
      "metadata": {
        "id": "0opJDmm1aZfb",
        "colab_type": "code",
        "colab": {},
        "outputId": "bc67a925-dbdb-4a03-ac6e-e27a1c7cd8bf"
      },
      "cell_type": "code",
      "source": [
        "%matplotlib inline\n",
        "import matplotlib.pyplot as plt\n",
        "import seaborn; seaborn.set()\n",
        "\n",
        "\n",
        "goog.plot();"
      ],
      "execution_count": 0,
      "outputs": [
        {
          "output_type": "display_data",
          "data": {
            "image/png": "[encoded data removed]",
            "text/plain": [
              "<Figure size 432x288 with 1 Axes>"
            ]
          },
          "metadata": {
            "tags": []
          }
        }
      ]
    },
    {
      "metadata": {
        "id": "l8GPWBbSaZfg",
        "colab_type": "text"
      },
      "cell_type": "markdown",
      "source": [
        "### Resampling and converting frequencies"
      ]
    },
    {
      "metadata": {
        "id": "yS1GGE5SaZfh",
        "colab_type": "code",
        "colab": {},
        "outputId": "83d0b4fa-7956-4b20-913a-73e9742b6f1a"
      },
      "cell_type": "code",
      "source": [
        "# resample() is data aggregation and asfreq() is data selection\n",
        "# resample reports the average of the previous year\n",
        "# asfreq reports the value at the end of the year\n",
        "goog.plot(alpha=0.5, style='-')\n",
        "goog.resample('BA').mean().plot(style=':')\n",
        "goog.asfreq('BA').plot(style='--');\n",
        "plt.legend(['input', 'resample', 'asfreq'], loc='upper left');"
      ],
      "execution_count": 0,
      "outputs": [
        {
          "output_type": "display_data",
          "data": {
            "image/png": "[encoded data removed]",
            "text/plain": [
              "<Figure size 432x288 with 1 Axes>"
            ]
          },
          "metadata": {
            "tags": []
          }
        }
      ]
    },
    {
      "metadata": {
        "id": "bWh-Q9P0aZfm",
        "colab_type": "code",
        "colab": {},
        "outputId": "943d2f91-1cc6-44c5-ca5f-797344636223"
      },
      "cell_type": "code",
      "source": [
        "fig, ax = plt.subplots(2, sharex=True)\n",
        "data = goog.iloc[:20]\n",
        "\n",
        "data.asfreq('D').plot(ax=ax[0], marker='o')\n",
        "\n",
        "data.asfreq('D', method='bfill').plot(ax=ax[1], style='-o')\n",
        "data.asfreq('D', method='ffill').plot(ax=ax[1], style='--o')\n",
        "ax[1].legend(['back-fill', 'forward-fill']);"
      ],
      "execution_count": 0,
      "outputs": [
        {
          "output_type": "display_data",
          "data": {
            "image/png": "[encoded data removed]",
            "text/plain": [
              "<Figure size 432x288 with 2 Axes>"
            ]
          },
          "metadata": {
            "tags": []
          }
        }
      ]
    },
    {
      "metadata": {
        "id": "hzFi00oyaZfq",
        "colab_type": "text"
      },
      "cell_type": "markdown",
      "source": [
        "### Time-shifts"
      ]
    },
    {
      "metadata": {
        "id": "lsqYzS2oaZfq",
        "colab_type": "code",
        "colab": {},
        "outputId": "fbcb68d7-23d1-4451-b241-94ea923961ae"
      },
      "cell_type": "code",
      "source": [
        "# shift() shifts the data, tshift() shifts the index\n",
        "fig, ax = plt.subplots(3, sharey=True)\n",
        "\n",
        "# Apply a frequency to the data\n",
        "goog = goog.asfreq('D', method='pad')\n",
        "\n",
        "goog.plot(ax=ax[0])\n",
        "goog.shift(900).plot(ax=ax[1])\n",
        "goog.tshift(900).plot(ax=ax[2])\n",
        "\n",
        "# Legends and annotations\n",
        "local_max = pd.to_datetime('2007-11-05')\n",
        "offset = pd.Timedelta(900, 'D')\n",
        "\n",
        "ax[0].legend(['input'], loc=2)\n",
        "ax[0].get_xticklabels()[2].set(weight='heavy', color='red')\n",
        "ax[0].axvline(local_max, alpha=0.3, color='red')\n",
        "\n",
        "ax[1].legend(['shift(900)'], loc=2)\n",
        "ax[1].get_xticklabels()[2].set(weight='heavy', color='red')\n",
        "ax[1].axvline(local_max + offset, alpha=0.3, color='red')\n",
        "\n",
        "ax[2].legend(['tshift(900)'], loc=2)\n",
        "ax[2].get_xticklabels()[1].set(weight='heavy', color='red')\n",
        "ax[2].axvline(local_max + offset, alpha=0.3, color='red');"
      ],
      "execution_count": 0,
      "outputs": [
        {
          "output_type": "display_data",
          "data": {
            "image/png": "[encoded data removed]",
            "text/plain": [
              "<Figure size 432x288 with 3 Axes>"
            ]
          },
          "metadata": {
            "tags": []
          }
        }
      ]
    },
    {
      "metadata": {
        "id": "TdHfGAG3aZfs",
        "colab_type": "code",
        "colab": {},
        "outputId": "33106230-78eb-4059-8965-d7edad61d27c"
      },
      "cell_type": "code",
      "source": [
        "# Use shifted values to compute the one-year return on investment\n",
        "# over the course of the dataset.\n",
        "ROI = 100 * (goog.tshift(-365) / goog - 1)\n",
        "ROI.plot()\n",
        "plt.ylabel('% Return on Investment');"
      ],
      "execution_count": 0,
      "outputs": [
        {
          "output_type": "display_data",
          "data": {
            "image/png": "[encoded data removed]",
            "text/plain": [
              "<Figure size 432x288 with 1 Axes>"
            ]
          },
          "metadata": {
            "tags": []
          }
        }
      ]
    },
    {
      "metadata": {
        "id": "H5tOLIMIaZfv",
        "colab_type": "text"
      },
      "cell_type": "markdown",
      "source": [
        "### Rolling windows"
      ]
    },
    {
      "metadata": {
        "id": "r6nnBzZuaZfw",
        "colab_type": "code",
        "colab": {},
        "outputId": "d4fbb746-c021-4e23-dfc8-d69a463e482a"
      },
      "cell_type": "code",
      "source": [
        "rolling = goog.rolling(365, center=True)\n",
        "\n",
        "data = pd.DataFrame({'input': goog,\n",
        "                    'one-year rolling_mean': rolling.mean(),\n",
        "                    'one-year rolling_std': rolling.std()})\n",
        "ax = data.plot(style=['-', '--', ':'])\n",
        "ax.lines[0].set_alpha(0.3)"
      ],
      "execution_count": 0,
      "outputs": [
        {
          "output_type": "display_data",
          "data": {
            "image/png": "[encoded data removed]",
            "text/plain": [
              "<Figure size 432x288 with 1 Axes>"
            ]
          },
          "metadata": {
            "tags": []
          }
        }
      ]
    }
  ]
}