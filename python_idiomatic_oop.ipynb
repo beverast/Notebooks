{
 "cells": [
  {
   "cell_type": "markdown",
   "metadata": {},
   "source": [
    "# Luciano Ramalho - Pythonic Objects: idiomatic OOP in Python - PyCon 2019\n",
    "\n",
    "**Link to talk:** https://www.youtube.com/watch?v=mUu_4k6a5-I\n",
    "\n",
    "**Link to talk repo:** https://github.com/ramalho/pyob\n",
    "\n",
    "_\"The determined Real Programmer can write FORTRAN programs in any language.\"_ - Ed Post, Real Programmers Don't Use Pascal, 1982."
   ]
  },
  {
   "cell_type": "markdown",
   "metadata": {},
   "source": [
    "### Quotes from the talk\n",
    "\n",
    "* Python presents itself to the programmer as a toolkit for building frameworks."
   ]
  },
  {
   "cell_type": "markdown",
   "metadata": {},
   "source": [
    "# **Part 1: Attribute Basics**"
   ]
  },
  {
   "cell_type": "code",
   "execution_count": 1,
   "metadata": {},
   "outputs": [
    {
     "name": "stdout",
     "output_type": "stream",
     "text": [
      "3.7.3 | packaged by conda-forge | (default, Mar 27 2019, 23:01:00) \n",
      "[GCC 7.3.0]\n"
     ]
    }
   ],
   "source": [
    "# Check version\n",
    "import sys\n",
    "print(sys.version)"
   ]
  },
  {
   "cell_type": "markdown",
   "metadata": {},
   "source": [
    "### A simplistic class"
   ]
  },
  {
   "cell_type": "code",
   "execution_count": 2,
   "metadata": {},
   "outputs": [],
   "source": [
    "class Coordinate:\n",
    "    '''Coordinate on Earth'''"
   ]
  },
  {
   "cell_type": "code",
   "execution_count": 3,
   "metadata": {},
   "outputs": [
    {
     "data": {
      "text/plain": [
       "<__main__.Coordinate at 0x7fdfb46fe748>"
      ]
     },
     "execution_count": 3,
     "metadata": {},
     "output_type": "execute_result"
    }
   ],
   "source": [
    "# Assigning new class attributes at will is permitted, but not recommended\n",
    "cle = Coordinate()\n",
    "cle.lat = 41.4\n",
    "cle.long = -81.1\n",
    "cle"
   ]
  },
  {
   "cell_type": "code",
   "execution_count": 4,
   "metadata": {},
   "outputs": [
    {
     "data": {
      "text/plain": [
       "41.4"
      ]
     },
     "execution_count": 4,
     "metadata": {},
     "output_type": "execute_result"
    }
   ],
   "source": [
    "cle.lat"
   ]
  },
  {
   "cell_type": "markdown",
   "metadata": {},
   "source": [
    "### First method: `__repr__`"
   ]
  },
  {
   "cell_type": "code",
   "execution_count": 5,
   "metadata": {},
   "outputs": [],
   "source": [
    "class Coordinate:\n",
    "    '''Coordinate on Earth'''\n",
    "    \n",
    "    def __repr__(self):\n",
    "        return f'Coordinate({self.lat}, {self.long})'"
   ]
  },
  {
   "cell_type": "code",
   "execution_count": 6,
   "metadata": {},
   "outputs": [
    {
     "data": {
      "text/plain": [
       "Coordinate(41.1, -81.8)"
      ]
     },
     "execution_count": 6,
     "metadata": {},
     "output_type": "execute_result"
    }
   ],
   "source": [
    "cle = Coordinate()\n",
    "cle.lat = 41.1\n",
    "cle.long = -81.8\n",
    "cle"
   ]
  },
  {
   "cell_type": "markdown",
   "metadata": {},
   "source": [
    "### About `__repr__`\n",
    "\n",
    "* Good for exploratory programming, docs, doctests, and debugging\n",
    "* Best practice: if viable, make `__repr__` return string with syntax required to make a new instance (like example above)\n",
    "* If not viable, use `<MyClass ...>`  with some `...` that identifies the particular instance"
   ]
  },
  {
   "cell_type": "code",
   "execution_count": 7,
   "metadata": {},
   "outputs": [
    {
     "data": {
      "text/plain": [
       "'Coordinate(41.1, -81.8)'"
      ]
     },
     "execution_count": 7,
     "metadata": {},
     "output_type": "execute_result"
    }
   ],
   "source": [
    "cle.__repr__()"
   ]
  },
  {
   "cell_type": "code",
   "execution_count": 8,
   "metadata": {},
   "outputs": [
    {
     "data": {
      "text/plain": [
       "'Coordinate(41.1, -81.8)'"
      ]
     },
     "execution_count": 8,
     "metadata": {},
     "output_type": "execute_result"
    }
   ],
   "source": [
    "# This syntax is a builtin special method, faster than above\n",
    "repr(cle)"
   ]
  },
  {
   "cell_type": "markdown",
   "metadata": {},
   "source": [
    "### `__str__` is for end-user displays"
   ]
  },
  {
   "cell_type": "code",
   "execution_count": 9,
   "metadata": {},
   "outputs": [],
   "source": [
    "class Coordinate:\n",
    "    '''Coordinate on Earth'''\n",
    "    \n",
    "    def __repr__(self):\n",
    "        return f'Coordinate({self.lat}, {self.long})'\n",
    "    \n",
    "    def __str__(self):\n",
    "        # bool is a subtype of int\n",
    "        # so this bool expr indexes into the str\n",
    "        ns = 'NS'[self.lat < 0]\n",
    "        we = 'EW'[self.long < 0]\n",
    "        return f'{abs(self.lat):.1f}°{ns}, {abs(self.long):.1f}°{we}'"
   ]
  },
  {
   "cell_type": "code",
   "execution_count": 10,
   "metadata": {},
   "outputs": [
    {
     "data": {
      "text/plain": [
       "Coordinate(41.1, -81.8)"
      ]
     },
     "execution_count": 10,
     "metadata": {},
     "output_type": "execute_result"
    }
   ],
   "source": [
    "cle = Coordinate()\n",
    "cle.lat = 41.1\n",
    "cle.long = -81.8\n",
    "cle"
   ]
  },
  {
   "cell_type": "code",
   "execution_count": 11,
   "metadata": {},
   "outputs": [
    {
     "name": "stdout",
     "output_type": "stream",
     "text": [
      "41.1°N, 81.8°W\n"
     ]
    }
   ],
   "source": [
    "# print calls __str__(self)\n",
    "print(cle)"
   ]
  },
  {
   "cell_type": "markdown",
   "metadata": {},
   "source": [
    "### But...\n",
    "\n",
    "Printing the `Coordinate` object fails because the `lat` and `long` attributes don't exist."
   ]
  },
  {
   "cell_type": "code",
   "execution_count": 12,
   "metadata": {},
   "outputs": [
    {
     "name": "stdout",
     "output_type": "stream",
     "text": [
      "'Coordinate' object has no attribute 'lat'\n"
     ]
    }
   ],
   "source": [
    "gulf_of_guinea = Coordinate()\n",
    "try:\n",
    "    print(gulf_of_guinea)\n",
    "except AttributeError as e:\n",
    "    print(e)"
   ]
  },
  {
   "cell_type": "markdown",
   "metadata": {},
   "source": [
    "### So...\n",
    "\n",
    "Redefine `Coordinate` to have default values for the necessary class attributes. This is not good practice, though."
   ]
  },
  {
   "cell_type": "code",
   "execution_count": 13,
   "metadata": {},
   "outputs": [],
   "source": [
    "class Coordinate:\n",
    "    '''Coordinate on Earth'''\n",
    "    \n",
    "    lat = 0.0\n",
    "    long = 0.0\n",
    "\n",
    "    def __repr__(self):\n",
    "        return f'Coordinate({self.lat}, {self.long})'\n",
    "    \n",
    "    def __str__(self):\n",
    "        # bool is a subtype of int\n",
    "        # so this bool expr indexes into the str\n",
    "        ns = 'NS'[self.lat < 0]\n",
    "        we = 'EW'[self.long < 0]\n",
    "        return f'{abs(self.lat):.1f}°{ns}, {abs(self.long):.1f}°{we}'"
   ]
  },
  {
   "cell_type": "code",
   "execution_count": 14,
   "metadata": {},
   "outputs": [
    {
     "name": "stdout",
     "output_type": "stream",
     "text": [
      "0.0°N, 0.0°E\n"
     ]
    }
   ],
   "source": [
    "gulf_of_guinea = Coordinate()\n",
    "try:\n",
    "    print(gulf_of_guinea)\n",
    "except AttributeError as e:\n",
    "    print(e)"
   ]
  },
  {
   "cell_type": "markdown",
   "metadata": {},
   "source": [
    "### `__dict__` is a dictionary of the attributes of a particular instance."
   ]
  },
  {
   "cell_type": "code",
   "execution_count": 15,
   "metadata": {},
   "outputs": [],
   "source": [
    "class Pizza:\n",
    "    \n",
    "    diameter = 40 # cm\n",
    "    slices = 8\n",
    "    \n",
    "    flavor = 'cheese'\n",
    "    flavor2 = None"
   ]
  },
  {
   "cell_type": "code",
   "execution_count": 16,
   "metadata": {},
   "outputs": [
    {
     "data": {
      "text/plain": [
       "8"
      ]
     },
     "execution_count": 16,
     "metadata": {},
     "output_type": "execute_result"
    }
   ],
   "source": [
    "p = Pizza()\n",
    "p.slices"
   ]
  },
  {
   "cell_type": "code",
   "execution_count": 17,
   "metadata": {},
   "outputs": [
    {
     "data": {
      "text/plain": [
       "'cheese'"
      ]
     },
     "execution_count": 17,
     "metadata": {},
     "output_type": "execute_result"
    }
   ],
   "source": [
    "p.flavor"
   ]
  },
  {
   "cell_type": "markdown",
   "metadata": {},
   "source": [
    "The two cells below show that `__dict__` doesn't look up values in the class definition. It only looks at values for the _instance_."
   ]
  },
  {
   "cell_type": "code",
   "execution_count": 18,
   "metadata": {},
   "outputs": [
    {
     "data": {
      "text/plain": [
       "{}"
      ]
     },
     "execution_count": 18,
     "metadata": {},
     "output_type": "execute_result"
    }
   ],
   "source": [
    "p.__dict__"
   ]
  },
  {
   "cell_type": "code",
   "execution_count": 19,
   "metadata": {},
   "outputs": [
    {
     "data": {
      "text/plain": [
       "{'flavor': 'Sausage'}"
      ]
     },
     "execution_count": 19,
     "metadata": {},
     "output_type": "execute_result"
    }
   ],
   "source": [
    "p.flavor = 'Sausage'\n",
    "p.__dict__"
   ]
  },
  {
   "cell_type": "markdown",
   "metadata": {},
   "source": [
    "Using `__dict__` on the class."
   ]
  },
  {
   "cell_type": "code",
   "execution_count": 20,
   "metadata": {},
   "outputs": [
    {
     "data": {
      "text/plain": [
       "mappingproxy({'__module__': '__main__',\n",
       "              'diameter': 40,\n",
       "              'slices': 8,\n",
       "              'flavor': 'cheese',\n",
       "              'flavor2': None,\n",
       "              '__dict__': <attribute '__dict__' of 'Pizza' objects>,\n",
       "              '__weakref__': <attribute '__weakref__' of 'Pizza' objects>,\n",
       "              '__doc__': None})"
      ]
     },
     "execution_count": 20,
     "metadata": {},
     "output_type": "execute_result"
    }
   ],
   "source": [
    "Pizza.__dict__"
   ]
  },
  {
   "cell_type": "markdown",
   "metadata": {},
   "source": [
    "### A better pizza...\n",
    "\n",
    "Best practices:\n",
    "\n",
    "* Use of _class attributes_ for attributes shared by all instances\n",
    "* Attributes that are expected to vary among instances are _instance attributes_\n",
    "* Assign all _instance attributes_ in `__init__` \n",
    "* Default values for instance attributes are `__init__` argument defualts"
   ]
  },
  {
   "cell_type": "code",
   "execution_count": 21,
   "metadata": {},
   "outputs": [],
   "source": [
    "class Pizza:\n",
    "    \n",
    "    diameter = 40 # cm\n",
    "    slices = 8\n",
    "    \n",
    "    def __init__(self, flavor='cheese', flavor2=None):\n",
    "        self.flavor = flavor\n",
    "        self.flavor2 = flavor2"
   ]
  },
  {
   "cell_type": "markdown",
   "metadata": {},
   "source": [
    "# Lab 1: enhancing `Coordinate`\n",
    "\n",
    "Follow instructions from: https://github.com/ramalho/pyob/tree/master/labs/1\n",
    "\n",
    "**Step 1:** Implement `__init__` taking `lat` and `long`, both optional with 0.0 as default.\n",
    "\n",
    "**Step 2:** Create a class attribute named `reference_system` with value 'WGS84'.\n",
    "\n",
    "**Step 3:** Use the encode function of the geohash.py module to create a `geohash` method in the Coordinate class."
   ]
  },
  {
   "cell_type": "code",
   "execution_count": 22,
   "metadata": {},
   "outputs": [],
   "source": [
    "import geohash\n",
    "\n",
    "class Coordinate:\n",
    "    '''Coordinate on Earth'''\n",
    "\n",
    "    reference_system = 'WGS84'\n",
    "    \n",
    "    \n",
    "    def __init__(self, lat=0.0, long=0.0):\n",
    "        self.lat = lat\n",
    "        self.long = long\n",
    "\n",
    "    def __repr__(self):\n",
    "        return f'Coordinate({self.lat}, {self.long})'\n",
    "    \n",
    "    def __str__(self):\n",
    "        # bool is a subtype of int\n",
    "        # so this bool expr indexes into the str\n",
    "        ns = 'NS'[self.lat < 0]\n",
    "        we = 'EW'[self.long < 0]\n",
    "        return f'{abs(self.lat):.1f}°{ns}, {abs(self.long):.1f}°{we}'\n",
    "    \n",
    "    def geohash(self):\n",
    "        return geohash.encode(self.lat, self.long)"
   ]
  },
  {
   "cell_type": "code",
   "execution_count": 23,
   "metadata": {},
   "outputs": [
    {
     "name": "stdout",
     "output_type": "stream",
     "text": [
      "1.1°S, 23.4°E\n",
      "kxb9srz2590s\n"
     ]
    },
    {
     "data": {
      "text/plain": [
       "Coordinate(-1.1, 23.4)"
      ]
     },
     "execution_count": 23,
     "metadata": {},
     "output_type": "execute_result"
    }
   ],
   "source": [
    "london = Coordinate(-1.1, 23.4)\n",
    "print(london)\n",
    "print(london.geohash())\n",
    "london"
   ]
  },
  {
   "cell_type": "markdown",
   "metadata": {},
   "source": [
    "------------"
   ]
  },
  {
   "cell_type": "markdown",
   "metadata": {},
   "source": [
    "# **Part 2: Caveats with mutable attributes and arguments**"
   ]
  },
  {
   "cell_type": "code",
   "execution_count": 24,
   "metadata": {},
   "outputs": [],
   "source": [
    "# A simple class to illustrate the danger of a mutable class attribute used as a\n",
    "# default value for an instance attribute\n",
    "class HauntedBus:\n",
    "    '''A bus haunted by ghost passengers'''\n",
    "    \n",
    "    passengers = []\n",
    "    \n",
    "    def pick(self, name):\n",
    "        self.passengers.append(name)\n",
    "        \n",
    "    def drop(self, name):\n",
    "        self.passengers.remove(name)"
   ]
  },
  {
   "cell_type": "code",
   "execution_count": 25,
   "metadata": {},
   "outputs": [
    {
     "data": {
      "text/plain": [
       "[]"
      ]
     },
     "execution_count": 25,
     "metadata": {},
     "output_type": "execute_result"
    }
   ],
   "source": [
    "bus1 = HauntedBus()\n",
    "bus1.passengers"
   ]
  },
  {
   "cell_type": "code",
   "execution_count": 26,
   "metadata": {},
   "outputs": [
    {
     "data": {
      "text/plain": [
       "['Ann', 'Bob']"
      ]
     },
     "execution_count": 26,
     "metadata": {},
     "output_type": "execute_result"
    }
   ],
   "source": [
    "bus1.pick('Ann')\n",
    "bus1.pick('Bob')\n",
    "bus1.passengers"
   ]
  },
  {
   "cell_type": "code",
   "execution_count": 27,
   "metadata": {},
   "outputs": [
    {
     "data": {
      "text/plain": [
       "['Ann', 'Bob']"
      ]
     },
     "execution_count": 27,
     "metadata": {},
     "output_type": "execute_result"
    }
   ],
   "source": [
    "# Ghost passengers!\n",
    "bus2 = HauntedBus()\n",
    "bus2.passengers"
   ]
  },
  {
   "cell_type": "code",
   "execution_count": 28,
   "metadata": {},
   "outputs": [],
   "source": [
    "class HauntedBus_v2:\n",
    "    '''Another bus haunted by ghost passengers'''\n",
    "    \n",
    "    def __init__(self, passengers=[]):\n",
    "        self.passengers = passengers\n",
    "    \n",
    "    def pick(self, name):\n",
    "        self.passengers.append(name)\n",
    "        \n",
    "    def drop(self, name):\n",
    "        self.passengers.remove(name)"
   ]
  },
  {
   "cell_type": "code",
   "execution_count": 29,
   "metadata": {},
   "outputs": [
    {
     "data": {
      "text/plain": [
       "[]"
      ]
     },
     "execution_count": 29,
     "metadata": {},
     "output_type": "execute_result"
    }
   ],
   "source": [
    "bus3 = HauntedBus_v2()\n",
    "bus3.passengers"
   ]
  },
  {
   "cell_type": "code",
   "execution_count": 30,
   "metadata": {},
   "outputs": [
    {
     "data": {
      "text/plain": [
       "['Charlie', 'Debbie']"
      ]
     },
     "execution_count": 30,
     "metadata": {},
     "output_type": "execute_result"
    }
   ],
   "source": [
    "bus3.pick('Charlie')\n",
    "bus3.pick('Debbie')\n",
    "bus3.passengers"
   ]
  },
  {
   "cell_type": "code",
   "execution_count": 31,
   "metadata": {},
   "outputs": [
    {
     "data": {
      "text/plain": [
       "['Charlie', 'Debbie']"
      ]
     },
     "execution_count": 31,
     "metadata": {},
     "output_type": "execute_result"
    }
   ],
   "source": [
    "# Ghost passengers!\n",
    "bus4 = HauntedBus_v2()\n",
    "bus4.passengers"
   ]
  },
  {
   "cell_type": "markdown",
   "metadata": {},
   "source": [
    "The `pick` and `drop` methods were changing the default value for the passengers argument in the `__init__` method. **The argument defaults are also class attributes** (indirectly because `__init__` is a class attribute)."
   ]
  },
  {
   "cell_type": "code",
   "execution_count": 32,
   "metadata": {},
   "outputs": [
    {
     "data": {
      "text/plain": [
       "(['Charlie', 'Debbie'],)"
      ]
     },
     "execution_count": 32,
     "metadata": {},
     "output_type": "execute_result"
    }
   ],
   "source": [
    "HauntedBus_v2.__init__.__defaults__"
   ]
  },
  {
   "cell_type": "code",
   "execution_count": 33,
   "metadata": {},
   "outputs": [],
   "source": [
    "class TwilightBus:\n",
    "    '''A bus model that makes passengeers vanish'''\n",
    "    \n",
    "    def __init__(self, passengers=None):\n",
    "        if passengers is None:\n",
    "            self.passengers = []\n",
    "        else:\n",
    "            self.passengers = passengers\n",
    "            \n",
    "    def pick(self, name):\n",
    "        self.passengers.append(name)\n",
    "        \n",
    "    def drop(self, name):\n",
    "        self.passengers.remove(name)"
   ]
  },
  {
   "cell_type": "code",
   "execution_count": 34,
   "metadata": {},
   "outputs": [
    {
     "data": {
      "text/plain": [
       "['Sue', 'Tina', 'Maya', 'Diana', 'Pat', 'Alice']"
      ]
     },
     "execution_count": 34,
     "metadata": {},
     "output_type": "execute_result"
    }
   ],
   "source": [
    "hockey_team = ['Sue', 'Tina', 'Maya', 'Diana', 'Pat', 'Alice']\n",
    "bus5 = TwilightBus(hockey_team)\n",
    "bus5.passengers"
   ]
  },
  {
   "cell_type": "code",
   "execution_count": 35,
   "metadata": {},
   "outputs": [
    {
     "data": {
      "text/plain": [
       "['Tina', 'Maya', 'Diana', 'Alice']"
      ]
     },
     "execution_count": 35,
     "metadata": {},
     "output_type": "execute_result"
    }
   ],
   "source": [
    "bus5.drop('Sue')\n",
    "bus5.drop('Pat')\n",
    "bus5.passengers"
   ]
  },
  {
   "cell_type": "code",
   "execution_count": 36,
   "metadata": {},
   "outputs": [
    {
     "data": {
      "text/plain": [
       "['Tina', 'Maya', 'Diana', 'Alice']"
      ]
     },
     "execution_count": 36,
     "metadata": {},
     "output_type": "execute_result"
    }
   ],
   "source": [
    "# Removed from the bus... and the hockey team.\n",
    "hockey_team"
   ]
  },
  {
   "cell_type": "code",
   "execution_count": 37,
   "metadata": {},
   "outputs": [],
   "source": [
    "class Bus:\n",
    "    '''The bus model that actually works'''\n",
    "    \n",
    "    def __init__(self, passengers=None):\n",
    "        if passengers is None:\n",
    "            self.passengers = []\n",
    "        else:\n",
    "            # Best practice: make a copy of mutable arguments when possible\n",
    "            self.passengers = list(passengers)\n",
    "            \n",
    "    def pick(self, name):\n",
    "        self.passengers.append(name)\n",
    "        \n",
    "    def drop(self, name):\n",
    "        self.passengers.remove(name)"
   ]
  },
  {
   "cell_type": "code",
   "execution_count": 38,
   "metadata": {},
   "outputs": [
    {
     "data": {
      "text/plain": [
       "['Sue', 'Tina', 'Maya', 'Diana', 'Pat', 'Alice']"
      ]
     },
     "execution_count": 38,
     "metadata": {},
     "output_type": "execute_result"
    }
   ],
   "source": [
    "hockey_team = ['Sue', 'Tina', 'Maya', 'Diana', 'Pat', 'Alice']\n",
    "bus6 = Bus(hockey_team)\n",
    "bus6.passengers"
   ]
  },
  {
   "cell_type": "code",
   "execution_count": 39,
   "metadata": {},
   "outputs": [
    {
     "data": {
      "text/plain": [
       "['Tina', 'Maya', 'Diana', 'Alice']"
      ]
     },
     "execution_count": 39,
     "metadata": {},
     "output_type": "execute_result"
    }
   ],
   "source": [
    "bus6.drop('Sue')\n",
    "bus6.drop('Pat')\n",
    "bus6.passengers"
   ]
  },
  {
   "cell_type": "code",
   "execution_count": 40,
   "metadata": {},
   "outputs": [
    {
     "data": {
      "text/plain": [
       "['Sue', 'Tina', 'Maya', 'Diana', 'Pat', 'Alice']"
      ]
     },
     "execution_count": 40,
     "metadata": {},
     "output_type": "execute_result"
    }
   ],
   "source": [
    "hockey_team"
   ]
  },
  {
   "cell_type": "markdown",
   "metadata": {},
   "source": [
    "-------------\n",
    "# **Part 3: Data classes**\n",
    "\n",
    "This section will cover Python features to help avoid boilerplate when creating classes that are essentially collections of fields, similar to a C struct or a database record.\n",
    "\n",
    "* `collections.namedtuple`\n",
    "* `typing.NamedTuple`\n",
    "* `dataclasses.dataclass`"
   ]
  },
  {
   "cell_type": "markdown",
   "metadata": {},
   "source": [
    "### `collections.namedtuple`"
   ]
  },
  {
   "cell_type": "code",
   "execution_count": 41,
   "metadata": {},
   "outputs": [
    {
     "data": {
      "text/plain": [
       "Coordinate(lat=41.4, long=-81.85)"
      ]
     },
     "execution_count": 41,
     "metadata": {},
     "output_type": "execute_result"
    }
   ],
   "source": [
    "from collections import namedtuple\n",
    "\n",
    "Coordinate = namedtuple('Coordinate', 'lat long')\n",
    "cle = Coordinate(41.40, -81.85)\n",
    "cle"
   ]
  },
  {
   "cell_type": "code",
   "execution_count": 42,
   "metadata": {},
   "outputs": [
    {
     "data": {
      "text/plain": [
       "(41.4, -81.85)"
      ]
     },
     "execution_count": 42,
     "metadata": {},
     "output_type": "execute_result"
    }
   ],
   "source": [
    "# This syntax feature is called \"tuple unpacking\"\n",
    "latitude, longitude = cle\n",
    "latitude, longitude"
   ]
  },
  {
   "cell_type": "markdown",
   "metadata": {},
   "source": [
    "Includes `__eq__` that knows how to compare with any tuple:"
   ]
  },
  {
   "cell_type": "code",
   "execution_count": 43,
   "metadata": {},
   "outputs": [
    {
     "data": {
      "text/plain": [
       "True"
      ]
     },
     "execution_count": 43,
     "metadata": {},
     "output_type": "execute_result"
    }
   ],
   "source": [
    "(latitude, longitude) == cle"
   ]
  },
  {
   "cell_type": "markdown",
   "metadata": {},
   "source": [
    "### `namedtuple` limitations\n",
    "\n",
    "* Instances are ummutable\n",
    "* No simple way to implement custom methods"
   ]
  },
  {
   "cell_type": "markdown",
   "metadata": {},
   "source": [
    "### `typing.NamedTuple`\n",
    "\n",
    "* Added in Python 3.5 \n",
    "* Variable annotation syntax added in Python 3.6"
   ]
  },
  {
   "cell_type": "code",
   "execution_count": 44,
   "metadata": {},
   "outputs": [],
   "source": [
    "from typing import NamedTuple, ClassVar\n",
    "\n",
    "class Coordinate(NamedTuple):\n",
    "    \n",
    "    # These are now instance attributes\n",
    "    lat: float = 0\n",
    "    long: float = 0\n",
    "    \n",
    "    # This is still a class attribute because there's no type annotation\n",
    "    # This is a very subtle distinction\n",
    "    reference_system = 'WGS84'\n",
    "    \n",
    "    def __str__(self):\n",
    "        ns = 'NS'[self.lat < 0]\n",
    "        we = 'EW'[self.long < 0]\n",
    "        return f'{abs(self.lat):.1f}°{ns}, {abs(self.long):.1f}°{we}'"
   ]
  },
  {
   "cell_type": "code",
   "execution_count": 45,
   "metadata": {},
   "outputs": [
    {
     "data": {
      "text/plain": [
       "Coordinate(lat=0, long=0)"
      ]
     },
     "execution_count": 45,
     "metadata": {},
     "output_type": "execute_result"
    }
   ],
   "source": [
    "gulf_of_guinea = Coordinate()\n",
    "gulf_of_guinea"
   ]
  },
  {
   "cell_type": "code",
   "execution_count": 46,
   "metadata": {},
   "outputs": [
    {
     "name": "stdout",
     "output_type": "stream",
     "text": [
      "41.4°N, 81.8°W\n"
     ]
    }
   ],
   "source": [
    "cle = Coordinate(41.40, -81.85)\n",
    "print(cle)"
   ]
  },
  {
   "cell_type": "markdown",
   "metadata": {},
   "source": [
    "Assignment (`cle.lat = 3.0`) won't work because we are using tuples, which are immutable."
   ]
  },
  {
   "cell_type": "markdown",
   "metadata": {},
   "source": [
    "### @dataclass - `Coordinate` as dataclass\n",
    "\n",
    "**What is a decorator?** It is a function. When Python reads it, it takes the following class definition and passes it as an object to the decorator, which it can then operate on. Decorators usually create methods, like dataclass for example."
   ]
  },
  {
   "cell_type": "code",
   "execution_count": 47,
   "metadata": {},
   "outputs": [],
   "source": [
    "from dataclasses import dataclass\n",
    "from typing import ClassVar\n",
    "\n",
    "# This is a decorator\n",
    "@dataclass\n",
    "class Coordinate:\n",
    "    lat: float\n",
    "    long: float = 0\n",
    "    \n",
    "    # This version is an instance attribute:\n",
    "    # reference_system: str = 'WGS84'\n",
    "    reference_system: ClassVar[str] = 'WGS84'\n",
    "        \n",
    "    def __str__(self):\n",
    "        ns = 'NS'[self.lat < 0]\n",
    "        we = 'EW'[self.long < 0]\n",
    "        return f'{abs(self.lat):.1f}°{ns}, {abs(self.long):.1f}°{we}'"
   ]
  },
  {
   "cell_type": "code",
   "execution_count": 48,
   "metadata": {},
   "outputs": [
    {
     "data": {
      "text/plain": [
       "\u001b[0;31mSignature:\u001b[0m\n",
       "\u001b[0mdataclass\u001b[0m\u001b[0;34m(\u001b[0m\u001b[0;34m\u001b[0m\n",
       "\u001b[0;34m\u001b[0m    \u001b[0m_cls\u001b[0m\u001b[0;34m=\u001b[0m\u001b[0;32mNone\u001b[0m\u001b[0;34m,\u001b[0m\u001b[0;34m\u001b[0m\n",
       "\u001b[0;34m\u001b[0m    \u001b[0;34m*\u001b[0m\u001b[0;34m,\u001b[0m\u001b[0;34m\u001b[0m\n",
       "\u001b[0;34m\u001b[0m    \u001b[0minit\u001b[0m\u001b[0;34m=\u001b[0m\u001b[0;32mTrue\u001b[0m\u001b[0;34m,\u001b[0m\u001b[0;34m\u001b[0m\n",
       "\u001b[0;34m\u001b[0m    \u001b[0mrepr\u001b[0m\u001b[0;34m=\u001b[0m\u001b[0;32mTrue\u001b[0m\u001b[0;34m,\u001b[0m\u001b[0;34m\u001b[0m\n",
       "\u001b[0;34m\u001b[0m    \u001b[0meq\u001b[0m\u001b[0;34m=\u001b[0m\u001b[0;32mTrue\u001b[0m\u001b[0;34m,\u001b[0m\u001b[0;34m\u001b[0m\n",
       "\u001b[0;34m\u001b[0m    \u001b[0morder\u001b[0m\u001b[0;34m=\u001b[0m\u001b[0;32mFalse\u001b[0m\u001b[0;34m,\u001b[0m\u001b[0;34m\u001b[0m\n",
       "\u001b[0;34m\u001b[0m    \u001b[0munsafe_hash\u001b[0m\u001b[0;34m=\u001b[0m\u001b[0;32mFalse\u001b[0m\u001b[0;34m,\u001b[0m\u001b[0;34m\u001b[0m\n",
       "\u001b[0;34m\u001b[0m    \u001b[0mfrozen\u001b[0m\u001b[0;34m=\u001b[0m\u001b[0;32mFalse\u001b[0m\u001b[0;34m,\u001b[0m\u001b[0;34m\u001b[0m\n",
       "\u001b[0;34m\u001b[0m\u001b[0;34m)\u001b[0m\u001b[0;34m\u001b[0m\u001b[0;34m\u001b[0m\u001b[0m\n",
       "\u001b[0;31mDocstring:\u001b[0m\n",
       "Returns the same class as was passed in, with dunder methods\n",
       "added based on the fields defined in the class.\n",
       "\n",
       "Examines PEP 526 __annotations__ to determine fields.\n",
       "\n",
       "If init is true, an __init__() method is added to the class. If\n",
       "repr is true, a __repr__() method is added. If order is true, rich\n",
       "comparison dunder methods are added. If unsafe_hash is true, a\n",
       "__hash__() method function is added. If frozen is true, fields may\n",
       "not be assigned to after instance creation.\n",
       "\u001b[0;31mFile:\u001b[0m      ~/miniconda3/envs/lambda/lib/python3.7/dataclasses.py\n",
       "\u001b[0;31mType:\u001b[0m      function\n"
      ]
     },
     "metadata": {},
     "output_type": "display_data"
    }
   ],
   "source": [
    "@dataclass?"
   ]
  },
  {
   "cell_type": "code",
   "execution_count": null,
   "metadata": {},
   "outputs": [],
   "source": [
    "@dataclass"
   ]
  },
  {
   "cell_type": "markdown",
   "metadata": {},
   "source": [
    "### A Dublin Core Resource dataclass"
   ]
  },
  {
   "cell_type": "code",
   "execution_count": 49,
   "metadata": {},
   "outputs": [],
   "source": [
    "from dataclasses import dataclass, field, fields\n",
    "from typing import List\n",
    "\n",
    "@dataclass\n",
    "class Resouce:\n",
    "    '''Media resouce description'''\n",
    "    \n",
    "    # Fields are class attributes that have type annotations\n",
    "    identifier: str = \"0\" * 13\n",
    "    title: str = \"<untitled>\"\n",
    "    creators: List[str] = field(default_factory=list)\n",
    "    date: str = \"\"\n",
    "    type: str = \"\"\n",
    "    description: str = \"\"\n",
    "    language: str = \"\"\n",
    "    subjects: List[str] = field(default_factory=list)\n",
    "    \n",
    "    def __repr__(self):\n",
    "        cls = self.__class__\n",
    "        cls_name = cls.__name__\n",
    "        res = [f'{cls_name}(']\n",
    "        for field in fields(cls):\n",
    "            value = getattr(self, field.name)\n",
    "            res.append(f'    {field.name} = {value!r},')\n",
    "        res.append(f')')\n",
    "        return '\\n'.join(res)"
   ]
  },
  {
   "cell_type": "code",
   "execution_count": 50,
   "metadata": {},
   "outputs": [
    {
     "data": {
      "text/plain": [
       "Resouce(\n",
       "    identifier = '9781491946008',\n",
       "    title = 'Fluent Python',\n",
       "    creators = ['Luciano Ramalho'],\n",
       "    date = '2015-08-20',\n",
       "    type = 'book',\n",
       "    description = 'A hands-on guide to idiomatic Python code.',\n",
       "    language = 'EN',\n",
       "    subjects = ['computer programming', 'Python'],\n",
       ")"
      ]
     },
     "execution_count": 50,
     "metadata": {},
     "output_type": "execute_result"
    }
   ],
   "source": [
    "description = 'A hands-on guide to idiomatic Python code.'\n",
    "book = Resouce('9781491946008', 'Fluent Python', ['Luciano Ramalho'],\n",
    "               '2015-08-20', 'book', description,\n",
    "               'EN', ['computer programming', 'Python'])\n",
    "book"
   ]
  },
  {
   "cell_type": "code",
   "execution_count": 51,
   "metadata": {},
   "outputs": [
    {
     "data": {
      "text/plain": [
       "Resouce(\n",
       "    identifier = '0000000000000',\n",
       "    title = '<untitled>',\n",
       "    creators = [],\n",
       "    date = '',\n",
       "    type = '',\n",
       "    description = '',\n",
       "    language = '',\n",
       "    subjects = [],\n",
       ")"
      ]
     },
     "execution_count": 51,
     "metadata": {},
     "output_type": "execute_result"
    }
   ],
   "source": [
    "empty = Resouce()\n",
    "empty"
   ]
  },
  {
   "cell_type": "code",
   "execution_count": 52,
   "metadata": {},
   "outputs": [
    {
     "data": {
      "text/plain": [
       "\u001b[0;31mSignature:\u001b[0m\n",
       "\u001b[0mfield\u001b[0m\u001b[0;34m(\u001b[0m\u001b[0;34m\u001b[0m\n",
       "\u001b[0;34m\u001b[0m    \u001b[0;34m*\u001b[0m\u001b[0;34m,\u001b[0m\u001b[0;34m\u001b[0m\n",
       "\u001b[0;34m\u001b[0m    \u001b[0mdefault\u001b[0m\u001b[0;34m=\u001b[0m\u001b[0;34m<\u001b[0m\u001b[0mdataclasses\u001b[0m\u001b[0;34m.\u001b[0m\u001b[0m_MISSING_TYPE\u001b[0m \u001b[0mobject\u001b[0m \u001b[0mat\u001b[0m \u001b[0;36m0x7fdfb4666908\u001b[0m\u001b[0;34m>\u001b[0m\u001b[0;34m,\u001b[0m\u001b[0;34m\u001b[0m\n",
       "\u001b[0;34m\u001b[0m    \u001b[0mdefault_factory\u001b[0m\u001b[0;34m=\u001b[0m\u001b[0;34m<\u001b[0m\u001b[0mdataclasses\u001b[0m\u001b[0;34m.\u001b[0m\u001b[0m_MISSING_TYPE\u001b[0m \u001b[0mobject\u001b[0m \u001b[0mat\u001b[0m \u001b[0;36m0x7fdfb4666908\u001b[0m\u001b[0;34m>\u001b[0m\u001b[0;34m,\u001b[0m\u001b[0;34m\u001b[0m\n",
       "\u001b[0;34m\u001b[0m    \u001b[0minit\u001b[0m\u001b[0;34m=\u001b[0m\u001b[0;32mTrue\u001b[0m\u001b[0;34m,\u001b[0m\u001b[0;34m\u001b[0m\n",
       "\u001b[0;34m\u001b[0m    \u001b[0mrepr\u001b[0m\u001b[0;34m=\u001b[0m\u001b[0;32mTrue\u001b[0m\u001b[0;34m,\u001b[0m\u001b[0;34m\u001b[0m\n",
       "\u001b[0;34m\u001b[0m    \u001b[0mhash\u001b[0m\u001b[0;34m=\u001b[0m\u001b[0;32mNone\u001b[0m\u001b[0;34m,\u001b[0m\u001b[0;34m\u001b[0m\n",
       "\u001b[0;34m\u001b[0m    \u001b[0mcompare\u001b[0m\u001b[0;34m=\u001b[0m\u001b[0;32mTrue\u001b[0m\u001b[0;34m,\u001b[0m\u001b[0;34m\u001b[0m\n",
       "\u001b[0;34m\u001b[0m    \u001b[0mmetadata\u001b[0m\u001b[0;34m=\u001b[0m\u001b[0;32mNone\u001b[0m\u001b[0;34m,\u001b[0m\u001b[0;34m\u001b[0m\n",
       "\u001b[0;34m\u001b[0m\u001b[0;34m)\u001b[0m\u001b[0;34m\u001b[0m\u001b[0;34m\u001b[0m\u001b[0m\n",
       "\u001b[0;31mDocstring:\u001b[0m\n",
       "Return an object to identify dataclass fields.\n",
       "\n",
       "default is the default value of the field.  default_factory is a\n",
       "0-argument function called to initialize a field's value.  If init\n",
       "is True, the field will be a parameter to the class's __init__()\n",
       "function.  If repr is True, the field will be included in the\n",
       "object's repr().  If hash is True, the field will be included in\n",
       "the object's hash().  If compare is True, the field will be used\n",
       "in comparison functions.  metadata, if specified, must be a\n",
       "mapping which is stored but not otherwise examined by dataclass.\n",
       "\n",
       "It is an error to specify both default and default_factory.\n",
       "\u001b[0;31mFile:\u001b[0m      ~/miniconda3/envs/lambda/lib/python3.7/dataclasses.py\n",
       "\u001b[0;31mType:\u001b[0m      function\n"
      ]
     },
     "metadata": {},
     "output_type": "display_data"
    }
   ],
   "source": [
    "# Try `fields?` too\n",
    "field?"
   ]
  },
  {
   "cell_type": "markdown",
   "metadata": {},
   "source": [
    "------------------------\n",
    "# **Part 4: Classes**\n",
    "\n",
    "Let's make two classes `Budget` and `Camper` that can be used to generate a budget report for a group of campers."
   ]
  },
  {
   "cell_type": "code",
   "execution_count": 53,
   "metadata": {},
   "outputs": [],
   "source": [
    "import operator\n",
    "\n",
    "class Camper:\n",
    "    \n",
    "    max_name_len = 0\n",
    "    template = '{name:>{name_len}} paid ${paid:7.2f}'\n",
    "    \n",
    "    def __init__(self, name, paid=0.0):\n",
    "        self.name = name\n",
    "        self.paid = float(paid)\n",
    "        if len(name) > Camper.max_name_len:\n",
    "            Camper.max_name_len = len(name)\n",
    "    \n",
    "    def pay(self, amount):\n",
    "        self.paid += float(amount)\n",
    "    \n",
    "    def display(self):\n",
    "        return Camper.template.format(\n",
    "            name = self.name,\n",
    "            name_len = self.max_name_len,\n",
    "            paid = self.paid,\n",
    "        )\n",
    "\n",
    "class Budget:\n",
    "    '''Represents the budget for a camping trip'''\n",
    "    \n",
    "    def __init__(self, *names):\n",
    "        # Single underscore is a Python convention for declaring a private attribute/method\n",
    "        # Functionally, there is no difference from naming it without an underscore\n",
    "        self._campers = {name: Camper(name) for name in names}\n",
    "    \n",
    "    def total(self):\n",
    "        return sum(c.paid for c in self._campers.values())\n",
    "    \n",
    "    def people(self):\n",
    "        return sorted(self._campers)\n",
    "    \n",
    "    def contribute(self, name, amount):\n",
    "        if name not in self._campers:\n",
    "            raise LookupError(\"Name not in budget\")\n",
    "        self._campers[name].pay(amount)\n",
    "    \n",
    "    def individual_share(self):\n",
    "        return self.total() / len(self._campers)\n",
    "\n",
    "    def report(self):\n",
    "        '''report displays names and amounts due or owed'''\n",
    "        share = self.individual_share()\n",
    "        heading_tpl = 'Total: $ {:.2f}; individual share: $ {:.2f}'\n",
    "        print(heading_tpl.format(self.total(), share))\n",
    "        print(\"-\"* 42)\n",
    "        sorted_campers = sorted(self._campers.values(), key=operator.attrgetter('paid'))\n",
    "        for camper in sorted_campers:\n",
    "            balance = f'balance: $ {camper.paid - share:7.2f}'\n",
    "            print(camper.display(), balance, sep=', ')"
   ]
  },
  {
   "cell_type": "code",
   "execution_count": 54,
   "metadata": {},
   "outputs": [
    {
     "data": {
      "text/plain": [
       "'   Anna paid $  33.00'"
      ]
     },
     "execution_count": 54,
     "metadata": {},
     "output_type": "execute_result"
    }
   ],
   "source": [
    "a = Camper('Anna')\n",
    "c = Camper('Charlie', 9)\n",
    "\n",
    "a.pay(33)\n",
    "a.display()"
   ]
  },
  {
   "cell_type": "code",
   "execution_count": 55,
   "metadata": {},
   "outputs": [
    {
     "name": "stdout",
     "output_type": "stream",
     "text": [
      "   Anna paid $  33.00\n",
      "Charlie paid $   9.00\n"
     ]
    }
   ],
   "source": [
    "for camper in [a, c]:\n",
    "     print(camper.display())"
   ]
  },
  {
   "cell_type": "code",
   "execution_count": 56,
   "metadata": {},
   "outputs": [
    {
     "data": {
      "text/plain": [
       "0.0"
      ]
     },
     "execution_count": 56,
     "metadata": {},
     "output_type": "execute_result"
    }
   ],
   "source": [
    "b = Budget('Debbie', 'Ann', 'Bob', 'Charlie')\n",
    "b.total()"
   ]
  },
  {
   "cell_type": "code",
   "execution_count": 57,
   "metadata": {},
   "outputs": [
    {
     "data": {
      "text/plain": [
       "['Ann', 'Bob', 'Charlie', 'Debbie']"
      ]
     },
     "execution_count": 57,
     "metadata": {},
     "output_type": "execute_result"
    }
   ],
   "source": [
    "b.people()"
   ]
  },
  {
   "cell_type": "code",
   "execution_count": 58,
   "metadata": {},
   "outputs": [
    {
     "data": {
      "text/plain": [
       "100.0"
      ]
     },
     "execution_count": 58,
     "metadata": {},
     "output_type": "execute_result"
    }
   ],
   "source": [
    "b.contribute(\"Bob\", 50.00)\n",
    "b.contribute(\"Debbie\", 40.00)\n",
    "b.contribute(\"Ann\", 10.00)\n",
    "b.total()"
   ]
  },
  {
   "cell_type": "code",
   "execution_count": 59,
   "metadata": {},
   "outputs": [
    {
     "name": "stdout",
     "output_type": "stream",
     "text": [
      "Total: $ 100.00; individual share: $ 25.00\n",
      "------------------------------------------\n",
      "Charlie paid $   0.00, balance: $  -25.00\n",
      "    Ann paid $  10.00, balance: $  -15.00\n",
      " Debbie paid $  40.00, balance: $   15.00\n",
      "    Bob paid $  50.00, balance: $   25.00\n"
     ]
    }
   ],
   "source": [
    "b.report()"
   ]
  },
  {
   "cell_type": "markdown",
   "metadata": {},
   "source": [
    "### Sidebar: private attributes"
   ]
  },
  {
   "cell_type": "code",
   "execution_count": 60,
   "metadata": {},
   "outputs": [
    {
     "data": {
      "text/plain": [
       "'gold'"
      ]
     },
     "execution_count": 60,
     "metadata": {},
     "output_type": "execute_result"
    }
   ],
   "source": [
    "class BlackBox:\n",
    "    \n",
    "    def __init__(self, top_content, bottom_content):\n",
    "        self._top = top_content\n",
    "        # Two underscores tells Python to \"hide\" this: make it private\n",
    "        # See what it does below in b.__dict__\n",
    "        self.__bottom = bottom_content\n",
    "\n",
    "b = BlackBox('gold', 'diamonds')\n",
    "b._top"
   ]
  },
  {
   "cell_type": "code",
   "execution_count": 61,
   "metadata": {},
   "outputs": [
    {
     "data": {
      "text/plain": [
       "False"
      ]
     },
     "execution_count": 61,
     "metadata": {},
     "output_type": "execute_result"
    }
   ],
   "source": [
    "# No __bottom... Where did it go?\n",
    "hasattr(b, '__bottom')"
   ]
  },
  {
   "cell_type": "code",
   "execution_count": 62,
   "metadata": {},
   "outputs": [
    {
     "data": {
      "text/plain": [
       "True"
      ]
     },
     "execution_count": 62,
     "metadata": {},
     "output_type": "execute_result"
    }
   ],
   "source": [
    "hasattr(b, '_top')"
   ]
  },
  {
   "cell_type": "code",
   "execution_count": 63,
   "metadata": {},
   "outputs": [
    {
     "data": {
      "text/plain": [
       "{'_top': 'gold', '_BlackBox__bottom': 'diamonds'}"
      ]
     },
     "execution_count": 63,
     "metadata": {},
     "output_type": "execute_result"
    }
   ],
   "source": [
    "# __bottom has been modified \n",
    "b.__dict__"
   ]
  },
  {
   "cell_type": "code",
   "execution_count": 64,
   "metadata": {},
   "outputs": [
    {
     "data": {
      "text/plain": [
       "'diamonds'"
      ]
     },
     "execution_count": 64,
     "metadata": {},
     "output_type": "execute_result"
    }
   ],
   "source": [
    "b._BlackBox__bottom"
   ]
  },
  {
   "cell_type": "markdown",
   "metadata": {},
   "source": [
    "### Private attribute takeaways\n",
    "\n",
    "* Its like a safety switch: they won't stop intentional sabotage, but they make reading/writing an attribute more intentional.\n",
    "* Some Pythonistas use `_private` while others use `__private`\n",
    "* Its always possible to start with a public attribute, then transform it into a property\n",
    "* Excessive use of getters/setters is actually weak encapsulation: the class is exposing how it keeps its state"
   ]
  },
  {
   "cell_type": "markdown",
   "metadata": {},
   "source": [
    "--------------------\n",
    "# **Part 5: Inheritance**\n",
    "\n",
    "https://github.com/ramalho/pyob/tree/master/examples/finstory\n",
    "\n",
    "Proper Python code involving money. `float` errors can affect calculations."
   ]
  },
  {
   "cell_type": "code",
   "execution_count": 65,
   "metadata": {},
   "outputs": [],
   "source": [
    "import collections\n",
    "import decimal\n",
    "\n",
    "decimal.setcontext(decimal.BasicContext)\n",
    "\n",
    "\n",
    "def new_decimal(value):\n",
    "    '''Builds a Decimal using the cleaner float `repr`'''\n",
    "    if isinstance(value, float):\n",
    "        value = repr(value)\n",
    "    return decimal.Decimal(value)\n",
    "\n",
    "\n",
    "class FinancialHistory:\n",
    "\n",
    "    def __init__(self, initial_balance=0.0):\n",
    "        self._balance = new_decimal(initial_balance)\n",
    "        self._incomes = collections.defaultdict(decimal.Decimal)\n",
    "        self._expenses = collections.defaultdict(decimal.Decimal)\n",
    "\n",
    "    def __repr__(self):\n",
    "        name = self.__class__.__name__\n",
    "        return f'<{name} balance: {self._balance:.2f}>'\n",
    "\n",
    "    @property\n",
    "    def balance(self):\n",
    "        return self._balance\n",
    "\n",
    "\n",
    "    def receive(self, amount, source):\n",
    "        amount = new_decimal(amount)\n",
    "        self._incomes[source] += amount\n",
    "        self._balance += amount\n",
    "\n",
    "    def spend(self, amount, reason):\n",
    "        amount = new_decimal(amount)\n",
    "        self._expenses[reason] += amount\n",
    "        self._balance -= amount\n",
    "\n",
    "    def received_from(self, source):\n",
    "        return self._incomes[source]\n",
    "\n",
    "    def spent_for(self, reason):\n",
    "        return self._expenses[reason]"
   ]
  },
  {
   "cell_type": "markdown",
   "metadata": {},
   "source": [
    "### Example of inheritance: \n",
    "\n",
    "* requires `super()` \n",
    "* Many authors don't recommend inheriting from a concrete class: not a best practice\n",
    "* \"Composition Over Inheritance\""
   ]
  },
  {
   "cell_type": "code",
   "execution_count": 66,
   "metadata": {},
   "outputs": [],
   "source": [
    "class DeductibleHistory(FinancialHistory):\n",
    "\n",
    "    def __init__(self, initial_balance=0.0):\n",
    "        # Delegates initializatin up the chain of inheritance\n",
    "        super().__init__(initial_balance)\n",
    "        self._deductions = decimal.Decimal(0)\n",
    "\n",
    "    def spend(self, amount, reason, deducting=0.0):\n",
    "        \"\"\"Record expense with partial deduction\"\"\"\n",
    "        # Uses `spend` from superclass, and add new functionality `deducting`\n",
    "        super().spend(amount, reason)\n",
    "        if deducting:\n",
    "            self._deductions += new_decimal(deducting)\n",
    "\n",
    "    def spend_deductible(self, amount, reason):\n",
    "        \"\"\"Record expense with full deduction\"\"\"\n",
    "        self.spend(amount, reason, amount)\n",
    "\n",
    "    @property\n",
    "    def deductions(self):\n",
    "        return self._deductions"
   ]
  },
  {
   "cell_type": "markdown",
   "metadata": {},
   "source": [
    "`FinancialHistory`"
   ]
  },
  {
   "cell_type": "code",
   "execution_count": 67,
   "metadata": {},
   "outputs": [
    {
     "data": {
      "text/plain": [
       "<FinancialHistory balance: 100.00>"
      ]
     },
     "execution_count": 67,
     "metadata": {},
     "output_type": "execute_result"
    }
   ],
   "source": [
    "h = FinancialHistory(100)\n",
    "h"
   ]
  },
  {
   "cell_type": "code",
   "execution_count": 68,
   "metadata": {},
   "outputs": [
    {
     "name": "stdout",
     "output_type": "stream",
     "text": [
      "$60.05\n"
     ]
    }
   ],
   "source": [
    "h.spend(39.95, 'meal')\n",
    "print(f'${h.balance:0.2f}')"
   ]
  },
  {
   "cell_type": "code",
   "execution_count": 69,
   "metadata": {},
   "outputs": [
    {
     "data": {
      "text/plain": [
       "<FinancialHistory balance: 1070.06>"
      ]
     },
     "execution_count": 69,
     "metadata": {},
     "output_type": "execute_result"
    }
   ],
   "source": [
    "h.receive(1000.01, \"Molly's game\")\n",
    "h.receive(10.00, 'found on street')\n",
    "h"
   ]
  },
  {
   "cell_type": "code",
   "execution_count": 70,
   "metadata": {},
   "outputs": [
    {
     "data": {
      "text/plain": [
       "<FinancialHistory balance: 688.05>"
      ]
     },
     "execution_count": 70,
     "metadata": {},
     "output_type": "execute_result"
    }
   ],
   "source": [
    "h.spend(55.36, 'meal')\n",
    "h.spend(26.65, 'meal')\n",
    "h.spend(300, 'concert')\n",
    "h"
   ]
  },
  {
   "cell_type": "code",
   "execution_count": 71,
   "metadata": {},
   "outputs": [
    {
     "data": {
      "text/plain": [
       "Decimal('121.96')"
      ]
     },
     "execution_count": 71,
     "metadata": {},
     "output_type": "execute_result"
    }
   ],
   "source": [
    "h.spent_for('meal')"
   ]
  },
  {
   "cell_type": "code",
   "execution_count": 72,
   "metadata": {},
   "outputs": [
    {
     "data": {
      "text/plain": [
       "Decimal('0')"
      ]
     },
     "execution_count": 72,
     "metadata": {},
     "output_type": "execute_result"
    }
   ],
   "source": [
    "h.spent_for('travel')"
   ]
  },
  {
   "cell_type": "markdown",
   "metadata": {},
   "source": [
    "`DeductibleHistory`"
   ]
  },
  {
   "cell_type": "code",
   "execution_count": 73,
   "metadata": {},
   "outputs": [
    {
     "data": {
      "text/plain": [
       "<DeductibleHistory balance: 1000.00>"
      ]
     },
     "execution_count": 73,
     "metadata": {},
     "output_type": "execute_result"
    }
   ],
   "source": [
    "h = DeductibleHistory(1000)\n",
    "h"
   ]
  },
  {
   "cell_type": "code",
   "execution_count": 74,
   "metadata": {},
   "outputs": [
    {
     "data": {
      "text/plain": [
       "<DeductibleHistory balance: 400.00>"
      ]
     },
     "execution_count": 74,
     "metadata": {},
     "output_type": "execute_result"
    }
   ],
   "source": [
    "h.spend(600, 'course', 150)\n",
    "h"
   ]
  },
  {
   "cell_type": "code",
   "execution_count": 75,
   "metadata": {},
   "outputs": [
    {
     "data": {
      "text/plain": [
       "<DeductibleHistory balance: 150.00>"
      ]
     },
     "execution_count": 75,
     "metadata": {},
     "output_type": "execute_result"
    }
   ],
   "source": [
    "h.spend_deductible(250, 'charity')\n",
    "h"
   ]
  },
  {
   "cell_type": "code",
   "execution_count": 76,
   "metadata": {},
   "outputs": [
    {
     "data": {
      "text/plain": [
       "Decimal('250')"
      ]
     },
     "execution_count": 76,
     "metadata": {},
     "output_type": "execute_result"
    }
   ],
   "source": [
    "h.spent_for('charity')"
   ]
  },
  {
   "cell_type": "code",
   "execution_count": 77,
   "metadata": {},
   "outputs": [
    {
     "data": {
      "text/plain": [
       "Decimal('150')"
      ]
     },
     "execution_count": 77,
     "metadata": {},
     "output_type": "execute_result"
    }
   ],
   "source": [
    "h.balance"
   ]
  },
  {
   "cell_type": "code",
   "execution_count": 78,
   "metadata": {},
   "outputs": [
    {
     "data": {
      "text/plain": [
       "Decimal('400')"
      ]
     },
     "execution_count": 78,
     "metadata": {},
     "output_type": "execute_result"
    }
   ],
   "source": [
    "h.deductions"
   ]
  },
  {
   "cell_type": "markdown",
   "metadata": {},
   "source": [
    "# **Part 5.1: Composition**\n",
    "\n",
    "* [Bingo](https://github.com/ramalho/pyob/tree/master/examples/bingo): a simple bingo machine.\n",
    "* [Tombola ABC](https://github.com/ramalho/pyob/blob/master/examples/tombola/tombola.py): Abstract Base Class for bingo machines.\n",
    "* [BingoCage](https://github.com/ramalho/pyob/blob/master/examples/tombola/bingo.py): an implementation of Tombola using composition.\n",
    "* [TumblingDrum](https://github.com/ramalho/pyob/blob/master/examples/tombola/drum.py): another implementation of Tombola using composition.\n",
    "* [LotteryBlower](https://github.com/ramalho/pyob/blob/master/examples/tombola/lotto.py): yet another implementation of Tombola using composition.\n",
    "* [Tombolist](https://github.com/ramalho/pyob/blob/master/examples/tombola/tombolist.py): a list subclass registered as a virtual subclass of Tombol"
   ]
  },
  {
   "cell_type": "code",
   "execution_count": 79,
   "metadata": {},
   "outputs": [],
   "source": [
    "import random\n",
    "\n",
    "\n",
    "class Bingo:\n",
    "    def __init__(self, items):\n",
    "        self._items = list(items)\n",
    "        random.shuffle(self._items)\n",
    "\n",
    "    def pop(self):\n",
    "        return self._items.pop()\n",
    "\n",
    "    def __len__(self):\n",
    "        return len(self._items)"
   ]
  },
  {
   "cell_type": "code",
   "execution_count": 80,
   "metadata": {},
   "outputs": [],
   "source": [
    "# tombola.py\n",
    "# Example of Abstract Base Class\n",
    "import abc\n",
    "\n",
    "class Tombola(abc.ABC):\n",
    "\n",
    "    @abc.abstractmethod\n",
    "    def load(self, iterable):\n",
    "        \"\"\"Add items from an iterable.\"\"\"\n",
    "\n",
    "    @abc.abstractmethod\n",
    "    def pick(self):\n",
    "        \"\"\"Remove item at random, returning it.\n",
    "        This method should raise `LookupError` when the instance is empty.\n",
    "        \"\"\"\n",
    "\n",
    "    def loaded(self):\n",
    "        \"\"\"Return `True` if there's at least 1 item, `False` otherwise.\"\"\"\n",
    "        return bool(self.inspect())\n",
    "\n",
    "\n",
    "    def inspect(self):\n",
    "        \"\"\"Return a sorted tuple with the items currently inside.\"\"\"\n",
    "        items = []\n",
    "        while True:\n",
    "            try:\n",
    "                items.append(self.pick())\n",
    "            except LookupError:\n",
    "                break\n",
    "        self.load(items)\n",
    "        return tuple(sorted(items))"
   ]
  },
  {
   "cell_type": "code",
   "execution_count": 81,
   "metadata": {},
   "outputs": [],
   "source": [
    "# bingo.py\n",
    "# Example of Composition\n",
    "class BingoCage(Tombola):\n",
    "\n",
    "    def __init__(self, items):\n",
    "        self._randomizer = random.SystemRandom()\n",
    "        self._items = []\n",
    "        self.load(items)\n",
    "\n",
    "    def load(self, items):\n",
    "        self._items.extend(items)\n",
    "        self._randomizer.shuffle(self._items)\n",
    "\n",
    "    def pick(self):\n",
    "        try:\n",
    "            return self._items.pop()\n",
    "        except IndexError:\n",
    "            raise LookupError('pick from empty BingoCage')\n",
    "\n",
    "    def __call__(self):\n",
    "        self.pick()"
   ]
  },
  {
   "cell_type": "code",
   "execution_count": 82,
   "metadata": {},
   "outputs": [],
   "source": [
    "# drum.py\n",
    "# Example of Composition\n",
    "from random import shuffle\n",
    "\n",
    "\n",
    "class TumblingDrum(Tombola):\n",
    "\n",
    "    def __init__(self, iterable):\n",
    "        self._balls = []\n",
    "        self.load(iterable)\n",
    "\n",
    "    def load(self, iterable):\n",
    "        self._balls.extend(iterable)\n",
    "        shuffle(self._balls)\n",
    "\n",
    "    def pick(self):\n",
    "        return self._balls.pop()"
   ]
  },
  {
   "cell_type": "code",
   "execution_count": 83,
   "metadata": {},
   "outputs": [],
   "source": [
    "# lotto.py\n",
    "# Example of Composition\n",
    "import random\n",
    "\n",
    "\n",
    "class LotteryBlower(Tombola):\n",
    "\n",
    "    def __init__(self, iterable):\n",
    "        self._balls = list(iterable)\n",
    "\n",
    "    def load(self, iterable):\n",
    "        self._balls.extend(iterable)\n",
    "\n",
    "    def pick(self):\n",
    "        try:\n",
    "            position = random.randrange(len(self._balls))\n",
    "        except ValueError:\n",
    "            raise LookupError('pick from empty BingoCage')\n",
    "        return self._balls.pop(position)\n",
    "\n",
    "    def loaded(self):\n",
    "        return bool(self._balls)\n",
    "\n",
    "    def inspect(self):\n",
    "        return tuple(sorted(self._balls))"
   ]
  },
  {
   "cell_type": "code",
   "execution_count": 84,
   "metadata": {},
   "outputs": [],
   "source": [
    "# tombolist.py\n",
    "# Example of a virtual subclass\n",
    "from random import randrange\n",
    "\n",
    "@Tombola.register\n",
    "class TomboList(list):\n",
    "\n",
    "    def pick(self):\n",
    "        if self:\n",
    "            position = randrange(len(self))\n",
    "            return self.pop(position)  # <4>\n",
    "        else:\n",
    "            raise LookupError('pop from empty TomboList')\n",
    "\n",
    "    load = list.extend\n",
    "\n",
    "    def loaded(self):\n",
    "        return bool(self)\n",
    "\n",
    "    def inspect(self):\n",
    "        return tuple(sorted(self))"
   ]
  },
  {
   "cell_type": "markdown",
   "metadata": {},
   "source": [
    "### Key Takeaways\n",
    "\n",
    "* Understand the difference between _interface inheritance_ and _implementation inheritance_\n",
    "* Understand that +interface inheritance_ and _implementation inheritance_ happen at the same time when you subclass a concrete class\n",
    "* Avoid inheriting from concrete classes\n",
    "* Beware of non-virtual calls in built-ins. To be safe, subclass `collections.UserList` & co. if you want to roll your own list, dict, etc.\n",
    "* Favor object composition over class inheritance (Gang of Four)"
   ]
  }
 ],
 "metadata": {
  "kernelspec": {
   "display_name": "Python 3",
   "language": "python",
   "name": "python3"
  },
  "language_info": {
   "codemirror_mode": {
    "name": "ipython",
    "version": 3
   },
   "file_extension": ".py",
   "mimetype": "text/x-python",
   "name": "python",
   "nbconvert_exporter": "python",
   "pygments_lexer": "ipython3",
   "version": "3.7.3"
  }
 },
 "nbformat": 4,
 "nbformat_minor": 2
}
